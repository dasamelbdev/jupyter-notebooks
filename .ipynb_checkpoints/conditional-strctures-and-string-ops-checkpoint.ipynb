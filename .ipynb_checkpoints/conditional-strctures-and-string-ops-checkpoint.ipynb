{
 "cells": [
  {
   "cell_type": "code",
   "execution_count": 2,
   "id": "cd17a03d",
   "metadata": {},
   "outputs": [
    {
     "name": "stdout",
     "output_type": "stream",
     "text": [
      "has !!!!\n"
     ]
    }
   ],
   "source": [
    "str=\"there is no other way\"\n",
    "if \"there is\" in str :\n",
    "    print(\"has !!!!\")\n",
    "elif \"otherr\" in str:\n",
    "    print(\"hass!!!\")\n",
    "else:\n",
    "    print(\"nooo!!!\")"
   ]
  },
  {
   "cell_type": "code",
   "execution_count": 6,
   "id": "793f4629",
   "metadata": {},
   "outputs": [
    {
     "name": "stdout",
     "output_type": "stream",
     "text": [
      "nooo!!!\n"
     ]
    }
   ],
   "source": [
    "str=None #None==0==flase in python\n",
    "if str :\n",
    "    print(\"has !!!!\")\n",
    "else:\n",
    "    print(\"nooo!!!\")"
   ]
  },
  {
   "cell_type": "code",
   "execution_count": 8,
   "id": "af372de9",
   "metadata": {},
   "outputs": [
    {
     "name": "stdout",
     "output_type": "stream",
     "text": [
      "0\n",
      "1\n",
      "2\n",
      "3\n",
      "4\n"
     ]
    }
   ],
   "source": [
    "for i in range(5):#for loop declaration\n",
    "    print(i)"
   ]
  }
 ],
 "metadata": {
  "kernelspec": {
   "display_name": "Python 3",
   "language": "python",
   "name": "python3"
  },
  "language_info": {
   "codemirror_mode": {
    "name": "ipython",
    "version": 3
   },
   "file_extension": ".py",
   "mimetype": "text/x-python",
   "name": "python",
   "nbconvert_exporter": "python",
   "pygments_lexer": "ipython3",
   "version": "3.9.1"
  }
 },
 "nbformat": 4,
 "nbformat_minor": 5
}
