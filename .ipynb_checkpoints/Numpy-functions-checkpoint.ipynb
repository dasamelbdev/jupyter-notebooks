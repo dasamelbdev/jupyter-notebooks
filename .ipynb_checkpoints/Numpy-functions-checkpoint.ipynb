{
 "cells": [
  {
   "cell_type": "markdown",
   "id": "9a79ac57",
   "metadata": {},
   "source": [
    "Adding two numpy arrays. Here addition mean mathamatical adding.\n",
    "Using numpy we can do broadcasting which known as the process of doing some operations without for loops "
   ]
  },
  {
   "cell_type": "code",
   "execution_count": 3,
   "id": "1fb55274",
   "metadata": {},
   "outputs": [
    {
     "data": {
      "text/plain": [
       "[12, 13, 14, 20, 21, 22]"
      ]
     },
     "execution_count": 3,
     "metadata": {},
     "output_type": "execute_result"
    }
   ],
   "source": [
    "a=[12,13,14]\n",
    "b=[20,21,22]\n",
    "a+b"
   ]
  },
  {
   "cell_type": "markdown",
   "id": "1e7ac6d1",
   "metadata": {},
   "source": [
    "converting arrays to numpy arrays"
   ]
  },
  {
   "cell_type": "code",
   "execution_count": 1,
   "id": "ea1d0831",
   "metadata": {},
   "outputs": [],
   "source": [
    "import numpy as np"
   ]
  },
  {
   "cell_type": "code",
   "execution_count": 3,
   "id": "78b11b66",
   "metadata": {},
   "outputs": [
    {
     "data": {
      "text/plain": [
       "array([32, 34, 36])"
      ]
     },
     "execution_count": 3,
     "metadata": {},
     "output_type": "execute_result"
    }
   ],
   "source": [
    "a=[12,13,14]\n",
    "b=[20,21,22]\n",
    "a=np.array(a)\n",
    "b=np.array(b)\n",
    "a+b"
   ]
  },
  {
   "cell_type": "markdown",
   "id": "9bf87593",
   "metadata": {},
   "source": [
    "zip function : it will match two elements of two arrays"
   ]
  },
  {
   "cell_type": "code",
   "execution_count": 14,
   "id": "192c6018",
   "metadata": {},
   "outputs": [
    {
     "name": "stdout",
     "output_type": "stream",
     "text": [
      "5 6\n",
      "12 10\n",
      "18 16\n"
     ]
    }
   ],
   "source": [
    "one_arr=[5,12,18]\n",
    "two_arr=[6,10,16]\n",
    "for itm1,itm2 in zip(one_arr,two_arr):\n",
    "    print (itm1,itm2)"
   ]
  },
  {
   "cell_type": "markdown",
   "id": "19016ed6",
   "metadata": {},
   "source": [
    "calculating eucladian distance from array a and array b"
   ]
  },
  {
   "cell_type": "code",
   "execution_count": 16,
   "id": "915949a3",
   "metadata": {},
   "outputs": [
    {
     "data": {
      "text/plain": [
       "[-8, -8, -8]"
      ]
     },
     "execution_count": 16,
     "metadata": {},
     "output_type": "execute_result"
    }
   ],
   "source": [
    "    diff_arr=[v1-v2 for v1,v2 in zip(a,b)]\n",
    "    diff_arr"
   ]
  },
  {
   "cell_type": "code",
   "execution_count": 21,
   "id": "b60a5073",
   "metadata": {},
   "outputs": [
    {
     "data": {
      "text/plain": [
       "[64, 64, 64]"
      ]
     },
     "execution_count": 21,
     "metadata": {},
     "output_type": "execute_result"
    }
   ],
   "source": [
    "sq_arr=[e**2 for e in diff_arr]\n",
    "sq_arr"
   ]
  },
  {
   "cell_type": "code",
   "execution_count": 22,
   "id": "7c7ba594",
   "metadata": {},
   "outputs": [
    {
     "data": {
      "text/plain": [
       "192"
      ]
     },
     "execution_count": 22,
     "metadata": {},
     "output_type": "execute_result"
    }
   ],
   "source": [
    "sum=sum(sq_arr)\n",
    "sum"
   ]
  },
  {
   "cell_type": "code",
   "execution_count": 23,
   "id": "3229a9bf",
   "metadata": {},
   "outputs": [
    {
     "data": {
      "text/plain": [
       "13.856406460551018"
      ]
     },
     "execution_count": 23,
     "metadata": {},
     "output_type": "execute_result"
    }
   ],
   "source": [
    "sqrt=sum**0.5\n",
    "sqrt"
   ]
  },
  {
   "cell_type": "markdown",
   "id": "8c53903b",
   "metadata": {},
   "source": [
    "above can be easily calculated by using numpy"
   ]
  },
  {
   "cell_type": "code",
   "execution_count": 37,
   "id": "957616ff",
   "metadata": {},
   "outputs": [],
   "source": [
    "\n",
    "def calculate_euc_distance(a,b):\n",
    "    #gettng diff_arr\n",
    "    d=a-b\n",
    "    print(d)\n",
    "    #getting squares of the diffs\n",
    "    d=np.square(d)\n",
    "    print(d)\n",
    "    #getting the sum of squares  and getting the sqrt of the sum\n",
    "    return np.sqrt(d.sum())"
   ]
  },
  {
   "cell_type": "code",
   "execution_count": 38,
   "id": "c92a90e9",
   "metadata": {},
   "outputs": [
    {
     "name": "stdout",
     "output_type": "stream",
     "text": [
      "[-8 -8 -8]\n",
      "[64 64 64]\n"
     ]
    },
    {
     "data": {
      "text/plain": [
       "13.856406460551018"
      ]
     },
     "execution_count": 38,
     "metadata": {},
     "output_type": "execute_result"
    }
   ],
   "source": [
    "arr_1=np.array([12,13,14])\n",
    "arr_2=np.array([20,21,22])\n",
    "calculate_euc_distance(arr_1,arr_2)"
   ]
  },
  {
   "cell_type": "code",
   "execution_count": 41,
   "id": "9348c1b8",
   "metadata": {},
   "outputs": [
    {
     "data": {
      "text/plain": [
       "13.856406460551018"
      ]
     },
     "execution_count": 41,
     "metadata": {},
     "output_type": "execute_result"
    }
   ],
   "source": [
    "#one line !!!!\n",
    "np.sqrt((np.square(arr_1-arr_2)).sum())"
   ]
  },
  {
   "cell_type": "code",
   "execution_count": null,
   "id": "58e95881",
   "metadata": {},
   "outputs": [],
   "source": []
  }
 ],
 "metadata": {
  "kernelspec": {
   "display_name": "Python 3",
   "language": "python",
   "name": "python3"
  },
  "language_info": {
   "codemirror_mode": {
    "name": "ipython",
    "version": 3
   },
   "file_extension": ".py",
   "mimetype": "text/x-python",
   "name": "python",
   "nbconvert_exporter": "python",
   "pygments_lexer": "ipython3",
   "version": "3.9.1"
  }
 },
 "nbformat": 4,
 "nbformat_minor": 5
}
