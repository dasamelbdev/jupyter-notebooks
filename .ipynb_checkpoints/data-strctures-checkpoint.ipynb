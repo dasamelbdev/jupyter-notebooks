{
 "cells": [
  {
   "cell_type": "code",
   "execution_count": 1,
   "id": "582a8183",
   "metadata": {},
   "outputs": [],
   "source": [
    "a=12\n",
    "b=\"dasun\""
   ]
  },
  {
   "cell_type": "code",
   "execution_count": 2,
   "id": "4932bf91",
   "metadata": {},
   "outputs": [
    {
     "data": {
      "text/plain": [
       "(12, 'dasun')"
      ]
     },
     "execution_count": 2,
     "metadata": {},
     "output_type": "execute_result"
    }
   ],
   "source": [
    "a,b"
   ]
  },
  {
   "cell_type": "code",
   "execution_count": 3,
   "id": "071dcbec",
   "metadata": {},
   "outputs": [
    {
     "name": "stdout",
     "output_type": "stream",
     "text": [
      "<class 'int'>\n",
      "<class 'str'>\n"
     ]
    }
   ],
   "source": [
    "print(type(a))\n",
    "print(type(b))"
   ]
  },
  {
   "cell_type": "code",
   "execution_count": 4,
   "id": "f4c29ea1",
   "metadata": {},
   "outputs": [],
   "source": [
    "list=[1,45,6,34]"
   ]
  },
  {
   "cell_type": "code",
   "execution_count": 5,
   "id": "af5014b8",
   "metadata": {},
   "outputs": [
    {
     "name": "stdout",
     "output_type": "stream",
     "text": [
      "<class 'list'>\n"
     ]
    }
   ],
   "source": [
    "print(type(list))"
   ]
  },
  {
   "cell_type": "code",
   "execution_count": 6,
   "id": "f80fae97",
   "metadata": {},
   "outputs": [],
   "source": [
    "list.append(\"sam\")"
   ]
  },
  {
   "cell_type": "code",
   "execution_count": 7,
   "id": "d3a9eb8e",
   "metadata": {},
   "outputs": [
    {
     "data": {
      "text/plain": [
       "[1, 45, 6, 34, 'sam']"
      ]
     },
     "execution_count": 7,
     "metadata": {},
     "output_type": "execute_result"
    }
   ],
   "source": [
    "list"
   ]
  },
  {
   "cell_type": "markdown",
   "id": "3308701f",
   "metadata": {},
   "source": [
    "in python -1 index means the last position of the corresponding list"
   ]
  },
  {
   "cell_type": "code",
   "execution_count": 9,
   "id": "93ae41c6",
   "metadata": {},
   "outputs": [
    {
     "data": {
      "text/plain": [
       "'sam'"
      ]
     },
     "execution_count": 9,
     "metadata": {},
     "output_type": "execute_result"
    }
   ],
   "source": [
    "list[-1]"
   ]
  },
  {
   "cell_type": "markdown",
   "id": "23d8e242",
   "metadata": {},
   "source": [
    "pop--> pop out the last element from the list. List will no longer have that element"
   ]
  },
  {
   "cell_type": "code",
   "execution_count": 11,
   "id": "8b35dc2e",
   "metadata": {},
   "outputs": [
    {
     "data": {
      "text/plain": [
       "'sam'"
      ]
     },
     "execution_count": 11,
     "metadata": {},
     "output_type": "execute_result"
    }
   ],
   "source": [
    "list.pop()"
   ]
  },
  {
   "cell_type": "code",
   "execution_count": 12,
   "id": "2496444e",
   "metadata": {},
   "outputs": [
    {
     "data": {
      "text/plain": [
       "[1, 45, 6, 34]"
      ]
     },
     "execution_count": 12,
     "metadata": {},
     "output_type": "execute_result"
    }
   ],
   "source": [
    "list"
   ]
  },
  {
   "cell_type": "markdown",
   "id": "0eff7db7",
   "metadata": {},
   "source": [
    "List comprehensions. Following will squre up each element in list"
   ]
  },
  {
   "cell_type": "code",
   "execution_count": 14,
   "id": "ea03aa1b",
   "metadata": {},
   "outputs": [
    {
     "data": {
      "text/plain": [
       "[1, 2025, 36, 1156]"
      ]
     },
     "execution_count": 14,
     "metadata": {},
     "output_type": "execute_result"
    }
   ],
   "source": [
    "[item**2 for item in list]"
   ]
  },
  {
   "cell_type": "markdown",
   "id": "b45c317d",
   "metadata": {},
   "source": [
    "another list operation"
   ]
  },
  {
   "cell_type": "code",
   "execution_count": 1,
   "id": "b6f96886",
   "metadata": {},
   "outputs": [],
   "source": [
    "numList=[100,200,300,400]"
   ]
  },
  {
   "cell_type": "code",
   "execution_count": 2,
   "id": "7bd675e7",
   "metadata": {},
   "outputs": [
    {
     "data": {
      "text/plain": [
       "[200, 300, 400, 500]"
      ]
     },
     "execution_count": 2,
     "metadata": {},
     "output_type": "execute_result"
    }
   ],
   "source": [
    "[i+100 for i in numList]"
   ]
  }
 ],
 "metadata": {
  "kernelspec": {
   "display_name": "Python 3",
   "language": "python",
   "name": "python3"
  },
  "language_info": {
   "codemirror_mode": {
    "name": "ipython",
    "version": 3
   },
   "file_extension": ".py",
   "mimetype": "text/x-python",
   "name": "python",
   "nbconvert_exporter": "python",
   "pygments_lexer": "ipython3",
   "version": "3.9.1"
  }
 },
 "nbformat": 4,
 "nbformat_minor": 5
}
