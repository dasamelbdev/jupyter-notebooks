{
 "cells": [
  {
   "cell_type": "code",
   "execution_count": 1,
   "id": "f297552f",
   "metadata": {},
   "outputs": [],
   "source": [
    "my_dictionery={\"v1\":2,\"v2\":3,\"v3\":\"dasun\"}"
   ]
  },
  {
   "cell_type": "code",
   "execution_count": 2,
   "id": "23b6828d",
   "metadata": {},
   "outputs": [
    {
     "data": {
      "text/plain": [
       "'dasun'"
      ]
     },
     "execution_count": 2,
     "metadata": {},
     "output_type": "execute_result"
    }
   ],
   "source": [
    "my_dictionery[\"v3\"]"
   ]
  },
  {
   "cell_type": "code",
   "execution_count": 3,
   "id": "0178055f",
   "metadata": {},
   "outputs": [],
   "source": [
    "my_dictionery[\"v4\"]=67"
   ]
  },
  {
   "cell_type": "code",
   "execution_count": 4,
   "id": "3255d265",
   "metadata": {},
   "outputs": [
    {
     "data": {
      "text/plain": [
       "67"
      ]
     },
     "execution_count": 4,
     "metadata": {},
     "output_type": "execute_result"
    }
   ],
   "source": [
    "my_dictionery[\"v4\"]"
   ]
  },
  {
   "cell_type": "code",
   "execution_count": 6,
   "id": "14d87dcf",
   "metadata": {},
   "outputs": [
    {
     "data": {
      "text/plain": [
       "{'v1': 2, 'v2': 3, 'v3': 'dasun'}"
      ]
     },
     "execution_count": 6,
     "metadata": {},
     "output_type": "execute_result"
    }
   ],
   "source": [
    "my_dictionery"
   ]
  },
  {
   "cell_type": "markdown",
   "id": "722ba84c",
   "metadata": {},
   "source": [
    "dictionery comprehensions"
   ]
  },
  {
   "cell_type": "code",
   "execution_count": 7,
   "id": "ea990c12",
   "metadata": {},
   "outputs": [],
   "source": [
    "num_list=[12,13,14,15]\n",
    "num_dict={item:item+5 for item in num_list}"
   ]
  },
  {
   "cell_type": "code",
   "execution_count": 8,
   "id": "dba538ad",
   "metadata": {},
   "outputs": [
    {
     "data": {
      "text/plain": [
       "{12: 17, 13: 18, 14: 19, 15: 20}"
      ]
     },
     "execution_count": 8,
     "metadata": {},
     "output_type": "execute_result"
    }
   ],
   "source": [
    "num_dict"
   ]
  },
  {
   "cell_type": "code",
   "execution_count": 9,
   "id": "32282368",
   "metadata": {},
   "outputs": [
    {
     "data": {
      "text/plain": [
       "dict_keys([12, 13, 14, 15])"
      ]
     },
     "execution_count": 9,
     "metadata": {},
     "output_type": "execute_result"
    }
   ],
   "source": [
    "#getting keys\n",
    "num_dict.keys()"
   ]
  },
  {
   "cell_type": "code",
   "execution_count": 10,
   "id": "c21c4708",
   "metadata": {},
   "outputs": [
    {
     "data": {
      "text/plain": [
       "dict_values([17, 18, 19, 20])"
      ]
     },
     "execution_count": 10,
     "metadata": {},
     "output_type": "execute_result"
    }
   ],
   "source": [
    "# getting values\n",
    "num_dict.values()"
   ]
  },
  {
   "cell_type": "code",
   "execution_count": 9,
   "id": "887d9a62",
   "metadata": {},
   "outputs": [
    {
     "data": {
      "text/plain": [
       "dict_items([(12, 17), (13, 18), (14, 19), (15, 20)])"
      ]
     },
     "execution_count": 9,
     "metadata": {},
     "output_type": "execute_result"
    }
   ],
   "source": [
    "#getting items\n",
    "num_dict.items()"
   ]
  },
  {
   "cell_type": "code",
   "execution_count": 11,
   "id": "704b3051",
   "metadata": {},
   "outputs": [
    {
     "name": "stdout",
     "output_type": "stream",
     "text": [
      "12 19\n",
      "13 20\n",
      "14 21\n",
      "15 22\n"
     ]
    }
   ],
   "source": [
    "#another comprehesion. This is how we can get key and value within a for loop\n",
    "for k,v in num_dict.items():\n",
    "    print(k,v+2)"
   ]
  },
  {
   "cell_type": "code",
   "execution_count": null,
   "id": "cbe7c880",
   "metadata": {},
   "outputs": [],
   "source": []
  }
 ],
 "metadata": {
  "kernelspec": {
   "display_name": "Python 3",
   "language": "python",
   "name": "python3"
  },
  "language_info": {
   "codemirror_mode": {
    "name": "ipython",
    "version": 3
   },
   "file_extension": ".py",
   "mimetype": "text/x-python",
   "name": "python",
   "nbconvert_exporter": "python",
   "pygments_lexer": "ipython3",
   "version": "3.9.1"
  }
 },
 "nbformat": 4,
 "nbformat_minor": 5
}
