{
 "cells": [
  {
   "cell_type": "code",
   "execution_count": 1,
   "id": "a62528fa",
   "metadata": {},
   "outputs": [
    {
     "data": {
      "text/plain": [
       "1"
      ]
     },
     "execution_count": 1,
     "metadata": {},
     "output_type": "execute_result"
    }
   ],
   "source": [
    "1"
   ]
  },
  {
   "cell_type": "code",
   "execution_count": 2,
   "id": "38544918",
   "metadata": {},
   "outputs": [
    {
     "data": {
      "text/plain": [
       "2"
      ]
     },
     "execution_count": 2,
     "metadata": {},
     "output_type": "execute_result"
    }
   ],
   "source": [
    "2"
   ]
  },
  {
   "cell_type": "code",
   "execution_count": 18,
   "id": "9b3492fe",
   "metadata": {},
   "outputs": [],
   "source": [
    "a=22"
   ]
  },
  {
   "cell_type": "code",
   "execution_count": 16,
   "id": "56e1c22b",
   "metadata": {},
   "outputs": [],
   "source": [
    "b=6"
   ]
  },
  {
   "cell_type": "code",
   "execution_count": 19,
   "id": "faa2237d",
   "metadata": {},
   "outputs": [
    {
     "data": {
      "text/plain": [
       "28"
      ]
     },
     "execution_count": 19,
     "metadata": {},
     "output_type": "execute_result"
    }
   ],
   "source": [
    "a+b"
   ]
  },
  {
   "cell_type": "markdown",
   "id": "48710a6a",
   "metadata": {},
   "source": [
    "this is a comment !!!!"
   ]
  },
  {
   "cell_type": "code",
   "execution_count": 20,
   "id": "536da74f",
   "metadata": {},
   "outputs": [
    {
     "data": {
      "text/plain": [
       "31"
      ]
     },
     "execution_count": 20,
     "metadata": {},
     "output_type": "execute_result"
    }
   ],
   "source": [
    "a+b+3"
   ]
  },
  {
   "cell_type": "markdown",
   "id": "0d93daba",
   "metadata": {},
   "source": [
    "another comment"
   ]
  },
  {
   "cell_type": "code",
   "execution_count": 21,
   "id": "24f46803",
   "metadata": {},
   "outputs": [
    {
     "data": {
      "text/plain": [
       "51"
      ]
     },
     "execution_count": 21,
     "metadata": {},
     "output_type": "execute_result"
    }
   ],
   "source": [
    "45+6"
   ]
  },
  {
   "cell_type": "code",
   "execution_count": null,
   "id": "ef284b07",
   "metadata": {},
   "outputs": [],
   "source": [
    "d=56"
   ]
  },
  {
   "cell_type": "code",
   "execution_count": null,
   "id": "ee10269a",
   "metadata": {},
   "outputs": [],
   "source": [
    "c=34"
   ]
  }
 ],
 "metadata": {
  "kernelspec": {
   "display_name": "Python 3",
   "language": "python",
   "name": "python3"
  },
  "language_info": {
   "codemirror_mode": {
    "name": "ipython",
    "version": 3
   },
   "file_extension": ".py",
   "mimetype": "text/x-python",
   "name": "python",
   "nbconvert_exporter": "python",
   "pygments_lexer": "ipython3",
   "version": "3.9.1"
  }
 },
 "nbformat": 4,
 "nbformat_minor": 5
}
