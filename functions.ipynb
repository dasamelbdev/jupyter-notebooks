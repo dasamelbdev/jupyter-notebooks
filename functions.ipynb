{
 "cells": [
  {
   "cell_type": "code",
   "execution_count": 7,
   "id": "30eeac3b",
   "metadata": {},
   "outputs": [],
   "source": [
    "def addOne(a):\n",
    "    print(\"hi\")\n",
    "    return a+1"
   ]
  },
  {
   "cell_type": "code",
   "execution_count": 10,
   "id": "d1ed158a",
   "metadata": {},
   "outputs": [
    {
     "name": "stdout",
     "output_type": "stream",
     "text": [
      "hi\n"
     ]
    },
    {
     "data": {
      "text/plain": [
       "6"
      ]
     },
     "execution_count": 10,
     "metadata": {},
     "output_type": "execute_result"
    }
   ],
   "source": [
    "result=addOne(5)\n",
    "result"
   ]
  },
  {
   "cell_type": "markdown",
   "id": "548f94e8",
   "metadata": {},
   "source": [
    "Return multiple values from a function"
   ]
  },
  {
   "cell_type": "code",
   "execution_count": 11,
   "id": "07ff78bd",
   "metadata": {},
   "outputs": [],
   "source": [
    "def returnManyValues(a):\n",
    "    return a*1,a*2,a*3    "
   ]
  },
  {
   "cell_type": "code",
   "execution_count": 12,
   "id": "3971a0c4",
   "metadata": {},
   "outputs": [
    {
     "data": {
      "text/plain": [
       "(3, 6, 9)"
      ]
     },
     "execution_count": 12,
     "metadata": {},
     "output_type": "execute_result"
    }
   ],
   "source": [
    "returnManyValues(3)"
   ]
  },
  {
   "cell_type": "markdown",
   "id": "5fcb597d",
   "metadata": {},
   "source": [
    "Lambda function"
   ]
  },
  {
   "cell_type": "code",
   "execution_count": 13,
   "id": "1cfff1f2",
   "metadata": {},
   "outputs": [],
   "source": [
    "result_addOne=lambda x: x+1"
   ]
  },
  {
   "cell_type": "code",
   "execution_count": 14,
   "id": "14ab0f84",
   "metadata": {},
   "outputs": [
    {
     "data": {
      "text/plain": [
       "100"
      ]
     },
     "execution_count": 14,
     "metadata": {},
     "output_type": "execute_result"
    }
   ],
   "source": [
    "result_addOne(99)"
   ]
  },
  {
   "cell_type": "code",
   "execution_count": 16,
   "id": "c6e52887",
   "metadata": {},
   "outputs": [],
   "source": [
    "result_addOne_v2=lambda x: (x+1,x+2)"
   ]
  },
  {
   "cell_type": "code",
   "execution_count": 17,
   "id": "10c8303e",
   "metadata": {},
   "outputs": [
    {
     "data": {
      "text/plain": [
       "(4, 5)"
      ]
     },
     "execution_count": 17,
     "metadata": {},
     "output_type": "execute_result"
    }
   ],
   "source": [
    "result_addOne_v2(3)"
   ]
  },
  {
   "cell_type": "code",
   "execution_count": 25,
   "id": "7005c98e",
   "metadata": {},
   "outputs": [],
   "source": [
    "result_addOne_v3=lambda x,y,z: (x+5,y*100,z+10)"
   ]
  },
  {
   "cell_type": "code",
   "execution_count": 26,
   "id": "49b6770a",
   "metadata": {},
   "outputs": [
    {
     "data": {
      "text/plain": [
       "(25, 3000, 60)"
      ]
     },
     "execution_count": 26,
     "metadata": {},
     "output_type": "execute_result"
    }
   ],
   "source": [
    "result_addOne_v3(20,30,50)"
   ]
  }
 ],
 "metadata": {
  "kernelspec": {
   "display_name": "Python 3",
   "language": "python",
   "name": "python3"
  },
  "language_info": {
   "codemirror_mode": {
    "name": "ipython",
    "version": 3
   },
   "file_extension": ".py",
   "mimetype": "text/x-python",
   "name": "python",
   "nbconvert_exporter": "python",
   "pygments_lexer": "ipython3",
   "version": "3.9.1"
  }
 },
 "nbformat": 4,
 "nbformat_minor": 5
}
